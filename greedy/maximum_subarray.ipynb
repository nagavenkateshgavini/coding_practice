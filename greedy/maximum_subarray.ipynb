{
 "cells": [
  {
   "cell_type": "code",
   "execution_count": 2,
   "metadata": {},
   "outputs": [],
   "source": [
    "inp = [-2,1,-3,4,-1,2,1,-5,4]"
   ]
  },
  {
   "cell_type": "markdown",
   "metadata": {},
   "source": [
    "# Bretuforce"
   ]
  },
  {
   "cell_type": "code",
   "execution_count": 3,
   "metadata": {},
   "outputs": [
    {
     "data": {
      "text/plain": [
       "6"
      ]
     },
     "execution_count": 3,
     "metadata": {},
     "output_type": "execute_result"
    }
   ],
   "source": [
    "total_elements = len(inp)\n",
    "max_sum = float('-inf')\n",
    "for i in range(total_elements):\n",
    "    j = i\n",
    "    while j < len(inp):\n",
    "        max_sum = max(sum(inp[i:(j+1)]), max_sum)\n",
    "        j += 1\n",
    "max_sum\n",
    "\n",
    "# O(n^3) - because there were three loops in this computation including list slicing and summing it up"
   ]
  },
  {
   "cell_type": "markdown",
   "metadata": {},
   "source": [
    "# Semi Optimal"
   ]
  },
  {
   "cell_type": "code",
   "execution_count": 5,
   "metadata": {},
   "outputs": [
    {
     "data": {
      "text/plain": [
       "6"
      ]
     },
     "execution_count": 5,
     "metadata": {},
     "output_type": "execute_result"
    }
   ],
   "source": [
    "# use the previous sum\n",
    "total_elements = len(inp)\n",
    "max_sum = float('-inf')\n",
    "for i in range(total_elements):\n",
    "    j = i\n",
    "    new_sum = 0\n",
    "    while j < len(inp):\n",
    "        new_sum += inp[j]\n",
    "        max_sum = max(new_sum, max_sum)\n",
    "        j += 1\n",
    "max_sum\n",
    "\n",
    "# O(n^2)"
   ]
  },
  {
   "cell_type": "markdown",
   "metadata": {},
   "source": [
    "# Optimal"
   ]
  },
  {
   "cell_type": "code",
   "execution_count": 8,
   "metadata": {},
   "outputs": [],
   "source": [
    "# Using kadane's algo, make sum=0 when you encounter negative sum going forward, but we are still maintaining a max_sum in another variable"
   ]
  },
  {
   "cell_type": "code",
   "execution_count": 9,
   "metadata": {},
   "outputs": [
    {
     "data": {
      "text/plain": [
       "6"
      ]
     },
     "execution_count": 9,
     "metadata": {},
     "output_type": "execute_result"
    }
   ],
   "source": [
    "max_sum= float('-inf')\n",
    "curr_sum = 0\n",
    "for num in inp:\n",
    "    curr_sum += num\n",
    "    max_sum = max(max_sum, curr_sum)\n",
    "    if curr_sum < 0:\n",
    "        curr_sum = 0\n",
    "max_sum"
   ]
  },
  {
   "cell_type": "code",
   "execution_count": 10,
   "metadata": {},
   "outputs": [],
   "source": [
    "# There is a devide and conquer approach as well, do that if you have time"
   ]
  },
  {
   "cell_type": "code",
   "execution_count": null,
   "metadata": {},
   "outputs": [],
   "source": []
  }
 ],
 "metadata": {
  "kernelspec": {
   "display_name": "base",
   "language": "python",
   "name": "python3"
  },
  "language_info": {
   "codemirror_mode": {
    "name": "ipython",
    "version": 3
   },
   "file_extension": ".py",
   "mimetype": "text/x-python",
   "name": "python",
   "nbconvert_exporter": "python",
   "pygments_lexer": "ipython3",
   "version": "3.9.12"
  }
 },
 "nbformat": 4,
 "nbformat_minor": 2
}
