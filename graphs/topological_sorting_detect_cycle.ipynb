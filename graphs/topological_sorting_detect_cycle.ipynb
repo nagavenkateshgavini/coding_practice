{
 "cells": [
  {
   "cell_type": "code",
   "execution_count": 2,
   "metadata": {},
   "outputs": [],
   "source": [
    "from collections import deque"
   ]
  },
  {
   "cell_type": "code",
   "execution_count": 10,
   "metadata": {},
   "outputs": [],
   "source": [
    "def detect_cycle(graph):\n",
    "    def dfs(node, visited, in_stack, cycle_detected, res_stack):\n",
    "        visited[node] = True\n",
    "        in_stack[node] = True\n",
    "        for neighbor in graph[node]:\n",
    "            if not visited[neighbor]:\n",
    "                dfs(neighbor, visited, in_stack, cycle_detected, res_stack)\n",
    "            elif in_stack[neighbor]:\n",
    "                cycle_detected[0] = True\n",
    "\n",
    "        in_stack[node] = False\n",
    "        res_stack.append(node)\n",
    "        \n",
    "        return res_stack\n",
    "    \n",
    "    visited = {node: False for node in graph}\n",
    "    # in_stack helps to detect cycle\n",
    "    in_stack = {node: False for node in graph}\n",
    "    cycle_detected = [False]\n",
    "    res_stack = deque()\n",
    "    for node in graph:\n",
    "        if not visited[node]:\n",
    "            dfs(node, visited, in_stack, cycle_detected, res_stack)\n",
    "    \n",
    "    if cycle_detected[0]:\n",
    "        print(\"cycle detected\")\n",
    "    else:\n",
    "        print(list(res_stack))\n"
   ]
  },
  {
   "cell_type": "code",
   "execution_count": 13,
   "metadata": {},
   "outputs": [],
   "source": [
    "adj_list = {\n",
    "    \"a\": [\"b\", \"c\"],\n",
    "    \"b\": [\"d\"],\n",
    "    \"c\": [\"d\"],\n",
    "    \"d\": [\"e\"],\n",
    "    \"e\": [\"a\"]\n",
    "}"
   ]
  },
  {
   "cell_type": "code",
   "execution_count": 15,
   "metadata": {},
   "outputs": [
    {
     "name": "stdout",
     "output_type": "stream",
     "text": [
      "cycle detected\n"
     ]
    }
   ],
   "source": [
    "topo_order = detect_cycle(adj_list)"
   ]
  },
  {
   "cell_type": "code",
   "execution_count": null,
   "metadata": {},
   "outputs": [],
   "source": []
  }
 ],
 "metadata": {
  "kernelspec": {
   "display_name": "base",
   "language": "python",
   "name": "python3"
  },
  "language_info": {
   "codemirror_mode": {
    "name": "ipython",
    "version": 3
   },
   "file_extension": ".py",
   "mimetype": "text/x-python",
   "name": "python",
   "nbconvert_exporter": "python",
   "pygments_lexer": "ipython3",
   "version": "3.9.12"
  }
 },
 "nbformat": 4,
 "nbformat_minor": 2
}
