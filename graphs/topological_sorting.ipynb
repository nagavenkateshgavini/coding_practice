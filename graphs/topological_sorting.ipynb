{
 "cells": [
  {
   "cell_type": "code",
   "execution_count": 4,
   "metadata": {},
   "outputs": [],
   "source": [
    "from collections import deque"
   ]
  },
  {
   "cell_type": "code",
   "execution_count": 14,
   "metadata": {},
   "outputs": [],
   "source": [
    "adj_list = {\n",
    "    \"a\": [\"b\", \"c\"],\n",
    "    \"b\": [\"d\"],\n",
    "    \"c\": [\"d\"],\n",
    "    \"d\": [\"e\"],\n",
    "    \"e\": []\n",
    "}"
   ]
  },
  {
   "cell_type": "code",
   "execution_count": null,
   "metadata": {},
   "outputs": [],
   "source": [
    "# Step 1: create visited dict, and an empty stack\n",
    "# Step 2: For every node, traverse their neighbors\n",
    "# Step 3: Add the node only after traversing it completely"
   ]
  },
  {
   "cell_type": "code",
   "execution_count": 25,
   "metadata": {},
   "outputs": [],
   "source": [
    "def topoSort(graph):\n",
    "    def dfs(node, visited, stack):\n",
    "        visited[node] = True\n",
    "        for neighbor in graph[node]:\n",
    "            if not visited[neighbor]:\n",
    "                dfs(neighbor, visited, stack)\n",
    "                \n",
    "        # we can also use appendleft, no need to reverse it again\n",
    "        stack.append(node)\n",
    "    \n",
    "    visited = {node: False for node in graph}\n",
    "    stack = deque()\n",
    "    \n",
    "    for node in graph:\n",
    "        if not visited[node]:\n",
    "            dfs(node, visited, stack)\n",
    "    \n",
    "    ans = \"\".join(list(stack)[::-1])\n",
    "    \n",
    "    # or\n",
    "    \n",
    "    # ans = []\n",
    "    # while stack:\n",
    "    #     ans.append(stack.pop())\n",
    "    \n",
    "    return ans"
   ]
  },
  {
   "cell_type": "code",
   "execution_count": 26,
   "metadata": {},
   "outputs": [
    {
     "name": "stdout",
     "output_type": "stream",
     "text": [
      "acbde\n"
     ]
    }
   ],
   "source": [
    "topo_order = topoSort(adj_list)\n",
    "print(topo_order)"
   ]
  },
  {
   "cell_type": "code",
   "execution_count": null,
   "metadata": {},
   "outputs": [],
   "source": [
    "# References: https://www.youtube.com/watch?v=ddTC4Zovtbc&t=520s"
   ]
  },
  {
   "cell_type": "code",
   "execution_count": null,
   "metadata": {},
   "outputs": [],
   "source": []
  }
 ],
 "metadata": {
  "kernelspec": {
   "display_name": "base",
   "language": "python",
   "name": "python3"
  },
  "language_info": {
   "codemirror_mode": {
    "name": "ipython",
    "version": 3
   },
   "file_extension": ".py",
   "mimetype": "text/x-python",
   "name": "python",
   "nbconvert_exporter": "python",
   "pygments_lexer": "ipython3",
   "version": "3.9.12"
  }
 },
 "nbformat": 4,
 "nbformat_minor": 2
}
