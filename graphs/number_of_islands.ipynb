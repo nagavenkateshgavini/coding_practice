{
 "cells": [
  {
   "cell_type": "code",
   "execution_count": 50,
   "metadata": {},
   "outputs": [],
   "source": [
    "matrix = [\n",
    "    [1, 1, 0, 0, 0],\n",
    "    [1, 1, 0, 0, 1],\n",
    "    [0, 0, 1, 0, 1]\n",
    "]"
   ]
  },
  {
   "cell_type": "code",
   "execution_count": 51,
   "metadata": {},
   "outputs": [],
   "source": [
    "num_rows = len(matrix)\n",
    "num_cols = len(matrix[0])"
   ]
  },
  {
   "cell_type": "code",
   "execution_count": 52,
   "metadata": {},
   "outputs": [],
   "source": [
    "num_islands = 0"
   ]
  },
  {
   "cell_type": "code",
   "execution_count": 53,
   "metadata": {},
   "outputs": [],
   "source": [
    "def do_dfs_and_mark(matrix, row, col):\n",
    "    if row < 0 or col < 0 or row >= len(matrix) or col >= len(matrix[0]):\n",
    "        return\n",
    "    \n",
    "    if matrix[row][col] != 1:\n",
    "        return\n",
    "    \n",
    "    matrix[row][col] = 2\n",
    "    do_dfs_and_mark(matrix, row, col-1)\n",
    "    do_dfs_and_mark(matrix, row-1, col)\n",
    "    do_dfs_and_mark(matrix, row+1, col)\n",
    "    do_dfs_and_mark(matrix, row, col+1)"
   ]
  },
  {
   "cell_type": "code",
   "execution_count": 54,
   "metadata": {},
   "outputs": [
    {
     "name": "stdout",
     "output_type": "stream",
     "text": [
      "Num of islands is: 3\n"
     ]
    }
   ],
   "source": [
    "for row in range(num_rows):\n",
    "    for col in range(num_cols):\n",
    "        curr_loc_val = matrix[row][col]\n",
    "        if curr_loc_val == 1:\n",
    "            do_dfs_and_mark(matrix, row, col)\n",
    "            num_islands += 1\n",
    "\n",
    "print(f\"Num of islands is: {num_islands}\")"
   ]
  },
  {
   "cell_type": "code",
   "execution_count": null,
   "metadata": {},
   "outputs": [],
   "source": []
  }
 ],
 "metadata": {
  "kernelspec": {
   "display_name": "Python 3.9.6 ('venv': venv)",
   "language": "python",
   "name": "python3"
  },
  "language_info": {
   "codemirror_mode": {
    "name": "ipython",
    "version": 3
   },
   "file_extension": ".py",
   "mimetype": "text/x-python",
   "name": "python",
   "nbconvert_exporter": "python",
   "pygments_lexer": "ipython3",
   "version": "3.9.6"
  },
  "orig_nbformat": 4,
  "vscode": {
   "interpreter": {
    "hash": "1cbcd4f0bc7e4e1110ff59050571d77c7d26d2134013f4007eef7017b652bbbe"
   }
  }
 },
 "nbformat": 4,
 "nbformat_minor": 2
}
