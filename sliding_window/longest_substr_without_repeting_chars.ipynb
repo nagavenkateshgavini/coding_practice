{
 "cells": [
  {
   "cell_type": "code",
   "execution_count": 2,
   "metadata": {},
   "outputs": [],
   "source": [
    "# Input: s = \"abcabcbb\"\n",
    "# Output: 3\n",
    "# Explanation: The answer is \"abc\", with the length of 3."
   ]
  },
  {
   "cell_type": "code",
   "execution_count": 12,
   "metadata": {},
   "outputs": [],
   "source": [
    "def find_non_rep_chars(_str):\n",
    "    left = 0\n",
    "    char_set = set()\n",
    "    res = 0\n",
    "    for right in range(len(_str)):\n",
    "        while _str[right] in char_set:\n",
    "            char_set.remove(_str[left])\n",
    "            left += 1\n",
    "        char_set.add(_str[right])\n",
    "        res = max(res, right - left + 1)\n",
    "    return res       "
   ]
  },
  {
   "cell_type": "code",
   "execution_count": 13,
   "metadata": {},
   "outputs": [
    {
     "name": "stdout",
     "output_type": "stream",
     "text": [
      "3\n"
     ]
    }
   ],
   "source": [
    "s = \"abcabcbb\"\n",
    "res = find_non_rep_chars(s)\n",
    "print(res)"
   ]
  },
  {
   "cell_type": "code",
   "execution_count": null,
   "metadata": {},
   "outputs": [],
   "source": []
  }
 ],
 "metadata": {
  "kernelspec": {
   "display_name": "Python 3.9.6 ('venv': venv)",
   "language": "python",
   "name": "python3"
  },
  "language_info": {
   "codemirror_mode": {
    "name": "ipython",
    "version": 3
   },
   "file_extension": ".py",
   "mimetype": "text/x-python",
   "name": "python",
   "nbconvert_exporter": "python",
   "pygments_lexer": "ipython3",
   "version": "3.9.6"
  },
  "orig_nbformat": 4,
  "vscode": {
   "interpreter": {
    "hash": "1cbcd4f0bc7e4e1110ff59050571d77c7d26d2134013f4007eef7017b652bbbe"
   }
  }
 },
 "nbformat": 4,
 "nbformat_minor": 2
}
