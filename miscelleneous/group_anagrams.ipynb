{
 "cells": [
  {
   "cell_type": "code",
   "execution_count": 1,
   "metadata": {},
   "outputs": [],
   "source": [
    "# Input: strs = [\"eat\",\"tea\",\"tan\",\"ate\",\"nat\",\"bat\"]\n",
    "# Output: [[\"bat\"],[\"nat\",\"tan\"],[\"ate\",\"eat\",\"tea\"]]"
   ]
  },
  {
   "cell_type": "code",
   "execution_count": 19,
   "metadata": {},
   "outputs": [],
   "source": [
    "# this is not correct solution because sometimes, the sum might equal to some other sum as shown below\n",
    "# output: {'294': ['cab'], '331': ['tin'], '332': ['pew'], '321': ['duh', 'ill'], '327': ['may'], '336': ['buy'], '309': ['bar'], '326': ['max'], '310': ['doc']})\n",
    "# Input: [['cab'], ['tin'], ['pew'], ['duh', 'ill'], ['may'], ['buy'], ['bar'], ['max'], ['doc']]\n",
    "\n",
    "from typing import List\n",
    "from collections import defaultdict\n",
    "\n",
    "class Solution:\n",
    "    def groupAnagrams(self, strs: List[str]) -> List[List[str]]:\n",
    "        res = defaultdict(list)\n",
    "        for string in strs:\n",
    "            key_val = 0\n",
    "            for c in string:\n",
    "                key_val += ord(c)\n",
    "            key_val_str = str(key_val)\n",
    "            res[key_val_str].append(string)\n",
    "        \n",
    "        print(res)\n",
    "        return res.values()"
   ]
  },
  {
   "cell_type": "code",
   "execution_count": 24,
   "metadata": {},
   "outputs": [],
   "source": [
    "from typing import List\n",
    "from collections import defaultdict\n",
    "\n",
    "class Solution:\n",
    "    def groupAnagrams(self, strs: List[str]) -> List[List[str]]:\n",
    "        res = defaultdict(list)\n",
    "        for string in strs:\n",
    "            key_list = [0] * 26\n",
    "            for c in string:\n",
    "                key_list[ord(c) - ord(\"a\")] += 1 # we have to +1 otherwise, it fails\n",
    "            res[tuple(key_list)].append(string)\n",
    "        \n",
    "        return res.values()"
   ]
  },
  {
   "cell_type": "code",
   "execution_count": 23,
   "metadata": {},
   "outputs": [
    {
     "data": {
      "text/plain": [
       "dict_values([['cab'], ['tin'], ['pew'], ['duh'], ['may'], ['ill'], ['buy'], ['bar'], ['max'], ['doc']])"
      ]
     },
     "execution_count": 23,
     "metadata": {},
     "output_type": "execute_result"
    }
   ],
   "source": [
    "s = Solution()\n",
    "s.groupAnagrams([\"cab\",\"tin\",\"pew\",\"duh\",\"may\",\"ill\",\"buy\",\"bar\",\"max\",\"doc\"])\n",
    "    "
   ]
  },
  {
   "cell_type": "code",
   "execution_count": null,
   "metadata": {},
   "outputs": [],
   "source": []
  }
 ],
 "metadata": {
  "kernelspec": {
   "display_name": "Python 3.9.6 ('venv': venv)",
   "language": "python",
   "name": "python3"
  },
  "language_info": {
   "codemirror_mode": {
    "name": "ipython",
    "version": 3
   },
   "file_extension": ".py",
   "mimetype": "text/x-python",
   "name": "python",
   "nbconvert_exporter": "python",
   "pygments_lexer": "ipython3",
   "version": "3.9.6"
  },
  "orig_nbformat": 4,
  "vscode": {
   "interpreter": {
    "hash": "1cbcd4f0bc7e4e1110ff59050571d77c7d26d2134013f4007eef7017b652bbbe"
   }
  }
 },
 "nbformat": 4,
 "nbformat_minor": 2
}
