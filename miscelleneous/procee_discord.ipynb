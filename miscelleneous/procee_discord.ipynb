{
 "cells": [
  {
   "cell_type": "code",
   "execution_count": 2,
   "metadata": {},
   "outputs": [],
   "source": [
    "s = \"\"\"Substring With Largest Variance (160 times): https://leetcode.com/problems/substring-with-largest-variance/\n",
    "Two Sum (133 times): https://leetcode.com/problems/two-sum/\n",
    "Sum of Total Strength of Wizards (123 times): https://leetcode.com/problems/sum-of-total-strength-of-wizards/\n",
    "Number of Islands (116 times): https://leetcode.com/problems/number-of-islands/\n",
    "LRU Cache (95 times): https://leetcode.com/problems/lru-cache/\n",
    "Analyze User Website Visit Pattern (54 times): https://leetcode.com/problems/analyze-user-website-visit-pattern/\n",
    "Trapping Rain Water (54 times): https://leetcode.com/problems/trapping-rain-water/\n",
    "Longest Substring Without Repeating Characters (52 times): https://leetcode.com/problems/longest-substring-without-repeating-characters/\n",
    "K Closest Points to Origin (51 times): https://leetcode.com/problems/k-closest-points-to-origin/\n",
    "Best Time to Buy and Sell Stock (51 times): https://leetcode.com/problems/best-time-to-buy-and-sell-stock/\n",
    "Group Anagrams (51 times): https://leetcode.com/problems/group-anagrams/\n",
    "Merge k Sorted Lists (50 times): https://leetcode.com/problems/merge-k-sorted-lists/\n",
    "Course Schedule (46 times): https://leetcode.com/problems/course-schedule/\n",
    "Reorder Data in Log Files (45 times): https://leetcode.com/problems/reorder-data-in-log-files/\n",
    "Maximum Subarray (44 times): https://leetcode.com/problems/maximum-subarray/\n",
    "Valid Parentheses (44 times): https://leetcode.com/problems/valid-parentheses/\n",
    "Roman to Integer (43 times): https://leetcode.com/problems/roman-to-integer/\n",
    "Word Ladder (42 times): https://leetcode.com/problems/word-ladder/\n",
    "Meeting Rooms II (40 times): https://leetcode.com/problems/meeting-rooms-ii/\n",
    "Sliding Window Maximum (39 times): https://leetcode.com/problems/sliding-window-maximum/\"\"\""
   ]
  },
  {
   "cell_type": "code",
   "execution_count": 11,
   "metadata": {},
   "outputs": [
    {
     "data": {
      "text/plain": [
       "'Substring With Largest Variance (160 times): https://leetcode.com/problems/substring-with-largest-variance/\\nTwo Sum (133 times): https://leetcode.com/problems/two-sum/\\nSum of Total Strength of Wizards (123 times): https://leetcode.com/problems/sum-of-total-strength-of-wizards/\\nNumber of Islands (116 times): https://leetcode.com/problems/number-of-islands/\\nLRU Cache (95 times): https://leetcode.com/problems/lru-cache/\\nAnalyze User Website Visit Pattern (54 times): https://leetcode.com/problems/analyze-user-website-visit-pattern/\\nTrapping Rain Water (54 times): https://leetcode.com/problems/trapping-rain-water/\\nLongest Substring Without Repeating Characters (52 times): https://leetcode.com/problems/longest-substring-without-repeating-characters/\\nK Closest Points to Origin (51 times): https://leetcode.com/problems/k-closest-points-to-origin/\\nBest Time to Buy and Sell Stock (51 times): https://leetcode.com/problems/best-time-to-buy-and-sell-stock/\\nGroup Anagrams (51 times): https://leetcode.com/problems/group-anagrams/\\nMerge k Sorted Lists (50 times): https://leetcode.com/problems/merge-k-sorted-lists/\\nCourse Schedule (46 times): https://leetcode.com/problems/course-schedule/\\nReorder Data in Log Files (45 times): https://leetcode.com/problems/reorder-data-in-log-files/\\nMaximum Subarray (44 times): https://leetcode.com/problems/maximum-subarray/\\nValid Parentheses (44 times): https://leetcode.com/problems/valid-parentheses/\\nRoman to Integer (43 times): https://leetcode.com/problems/roman-to-integer/\\nWord Ladder (42 times): https://leetcode.com/problems/word-ladder/\\nMeeting Rooms II (40 times): https://leetcode.com/problems/meeting-rooms-ii/\\nSliding Window Maximum (39 times): https://leetcode.com/problems/sliding-window-maximum/'"
      ]
     },
     "execution_count": 11,
     "metadata": {},
     "output_type": "execute_result"
    }
   ],
   "source": [
    "s"
   ]
  },
  {
   "cell_type": "code",
   "execution_count": 20,
   "metadata": {},
   "outputs": [],
   "source": [
    "fp = open(\"sample.txt\", 'w')\n",
    "a = 0\n",
    "data = s.split(\"\\n\")\n",
    "for i in range(0, len(data)-1):\n",
    "    data[i] = data[i].replace('(', ',')\n",
    "    data[i] = data[i].replace('):', ',')\n",
    "    fp.write(f\"{data[i]}\\n\")\n",
    "fp.close()"
   ]
  },
  {
   "cell_type": "code",
   "execution_count": null,
   "metadata": {},
   "outputs": [],
   "source": []
  }
 ],
 "metadata": {
  "kernelspec": {
   "display_name": "Python 3.9.6 64-bit",
   "language": "python",
   "name": "python3"
  },
  "language_info": {
   "codemirror_mode": {
    "name": "ipython",
    "version": 3
   },
   "file_extension": ".py",
   "mimetype": "text/x-python",
   "name": "python",
   "nbconvert_exporter": "python",
   "pygments_lexer": "ipython3",
   "version": "3.9.6"
  },
  "orig_nbformat": 4,
  "vscode": {
   "interpreter": {
    "hash": "31f2aee4e71d21fbe5cf8b01ff0e069b9275f58929596ceb00d14d90e3e16cd6"
   }
  }
 },
 "nbformat": 4,
 "nbformat_minor": 2
}
