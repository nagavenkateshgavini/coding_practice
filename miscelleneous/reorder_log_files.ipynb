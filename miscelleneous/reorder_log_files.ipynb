{
 "cells": [
  {
   "cell_type": "code",
   "execution_count": null,
   "metadata": {},
   "outputs": [],
   "source": [
    "# Input: logs = [\"dig1 8 1 5 1\",\"let1 art can\",\"dig2 3 6\",\"let2 own kit dig\",\"let3 art zero\"]\n",
    "# Output: [\"let1 art can\",\"let3 art zero\",\"let2 own kit dig\",\"dig1 8 1 5 1\",\"dig2 3 6\"]\n",
    "# Explanation:\n",
    "# The letter-log contents are all different, so their ordering is \"art can\", \"art zero\", \"own kit dig\".\n",
    "# The digit-logs have a relative order of \"dig1 8 1 5 1\", \"dig2 3 6\"."
   ]
  },
  {
   "cell_type": "code",
   "execution_count": 2,
   "metadata": {},
   "outputs": [],
   "source": []
  },
  {
   "cell_type": "code",
   "execution_count": 17,
   "metadata": {},
   "outputs": [],
   "source": [
    "from typing import List\n",
    "class Solution:\n",
    "    def reorderLogFiles(self, logs: List[str]) -> List[str]:\n",
    "        dig_logs = []\n",
    "        let_logs = []\n",
    "        for log in logs:\n",
    "            log_split = log.split()\n",
    "            if log_split[1].isdigit():\n",
    "                dig_logs.append(log_split)\n",
    "            else:\n",
    "                let_logs.append(log_split)\n",
    "    \n",
    "        let_logs.sort(key=lambda x: x[0]) # sort by identifier\n",
    "        let_logs.sort(key=lambda x: x[1:]) # sort by all content values\n",
    "        \n",
    "        return [\" \".join(i) for i in let_logs] + [\" \".join(j) for j in dig_logs]\n",
    "\n",
    "# O(nlogn)\n",
    "        "
   ]
  },
  {
   "cell_type": "code",
   "execution_count": 18,
   "metadata": {},
   "outputs": [
    {
     "data": {
      "text/plain": [
       "['a8 act aoo', 'g1 act bar', 'ab1 off key dog', 'a1 9 2 3 1', 'zo4 4 7']"
      ]
     },
     "execution_count": 18,
     "metadata": {},
     "output_type": "execute_result"
    }
   ],
   "source": [
    "s = Solution()\n",
    "s.reorderLogFiles([\"a1 9 2 3 1\",\"g1 act bar\",\"zo4 4 7\",\"ab1 off key dog\",\"a8 act aoo\"])"
   ]
  }
 ],
 "metadata": {
  "kernelspec": {
   "display_name": "base",
   "language": "python",
   "name": "python3"
  },
  "language_info": {
   "codemirror_mode": {
    "name": "ipython",
    "version": 3
   },
   "file_extension": ".py",
   "mimetype": "text/x-python",
   "name": "python",
   "nbconvert_exporter": "python",
   "pygments_lexer": "ipython3",
   "version": "3.9.12"
  }
 },
 "nbformat": 4,
 "nbformat_minor": 2
}
